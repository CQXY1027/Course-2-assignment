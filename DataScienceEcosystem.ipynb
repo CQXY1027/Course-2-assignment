{
 "cells": [
  {
   "cell_type": "markdown",
   "id": "11793bf2-1eed-4054-bd10-0034b9ec119c",
   "metadata": {},
   "source": [
    "# Data Science Tools and Ecosystem "
   ]
  },
  {
   "cell_type": "markdown",
   "id": "2d63f047-cdac-49c4-a9ae-dd95af9267e8",
   "metadata": {},
   "source": [
    "In this notebook, Data Science Tools and Ecosystem are summarized"
   ]
  },
  {
   "cell_type": "markdown",
   "id": "bd302796-a856-428b-80b3-6ad3b923c972",
   "metadata": {},
   "source": [
    "Some of the popular languages that Data Scientists use are:\n",
    "\n",
    "1. Python\n",
    "2. C/C++\n",
    "3. Javascript\n",
    "4. Java\n",
    "5. R"
   ]
  },
  {
   "cell_type": "markdown",
   "id": "24c0fa72-d38f-4d5e-b431-dc1c2f64f661",
   "metadata": {},
   "source": [
    "Some of the commonly used libraries used by Data Scientists include:\n",
    "\n",
    "1. Pandas\n",
    "2. Numpy\n",
    "3. Matplotlib\n",
    "4. Scikitlearn\n",
    "5. Keras"
   ]
  },
  {
   "cell_type": "markdown",
   "id": "7f81e512-1ea2-4737-929f-6341be1f3d44",
   "metadata": {},
   "source": [
    "|Data Science Tools|\n",
    "|------------------|\n",
    "| Jupyter notebooks |\n",
    "| Apache Spark |\n",
    "| TensorFlow |\n"
   ]
  },
  {
   "cell_type": "markdown",
   "id": "13fb72a2-49ae-42dd-9670-fed9374b32cb",
   "metadata": {},
   "source": [
    "### Below are a few examples of evaluating arithmetic expressions in Python.\n"
   ]
  },
  {
   "cell_type": "code",
   "execution_count": 1,
   "id": "9dbee42d-feb8-4b0b-bc8b-4179b8100239",
   "metadata": {},
   "outputs": [
    {
     "data": {
      "text/plain": [
       "17"
      ]
     },
     "execution_count": 1,
     "metadata": {},
     "output_type": "execute_result"
    }
   ],
   "source": [
    "# This a simple arithmetic expression to multiply then add integers\n",
    "\n",
    "(3*4)+5"
   ]
  },
  {
   "cell_type": "code",
   "execution_count": 2,
   "id": "43410320-d0a2-458b-b48a-6fc1d28d7f35",
   "metadata": {},
   "outputs": [
    {
     "data": {
      "text/plain": [
       "3.3333333333333335"
      ]
     },
     "execution_count": 2,
     "metadata": {},
     "output_type": "execute_result"
    }
   ],
   "source": [
    "# This will convert 200 minutes to hours by diving by 60\n",
    "\n",
    "200/60"
   ]
  },
  {
   "cell_type": "markdown",
   "id": "ba00aab1-5a87-4f85-8b9e-72ebe6b31e49",
   "metadata": {},
   "source": [
    "**Objectives:**\n",
    "\n",
    "- List popular languages for data science\n",
    "- List popular libraries for data science\n",
    "- List popular data science tools"
   ]
  },
  {
   "cell_type": "markdown",
   "id": "d5b2833a-6898-44d4-a5e6-de3592f8bc31",
   "metadata": {},
   "source": [
    "## Author\n",
    "Chloe"
   ]
  },
  {
   "cell_type": "code",
   "execution_count": null,
   "id": "f725fd99-972f-441d-8c71-cbe42bf61ea8",
   "metadata": {},
   "outputs": [],
   "source": []
  }
 ],
 "metadata": {
  "kernelspec": {
   "display_name": "Python 3 (ipykernel)",
   "language": "python",
   "name": "python3"
  },
  "language_info": {
   "codemirror_mode": {
    "name": "ipython",
    "version": 3
   },
   "file_extension": ".py",
   "mimetype": "text/x-python",
   "name": "python",
   "nbconvert_exporter": "python",
   "pygments_lexer": "ipython3",
   "version": "3.11.9"
  }
 },
 "nbformat": 4,
 "nbformat_minor": 5
}
